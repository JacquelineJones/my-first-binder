{
 "cells": [
  {
   "cell_type": "code",
   "execution_count": null,
   "id": "c07de1c9-42ec-43a4-8035-345eb77fdc53",
   "metadata": {},
   "outputs": [],
   "source": [
    "#HW3"
   ]
  },
  {
   "cell_type": "code",
   "execution_count": 171,
   "id": "f7324cc9-1af1-46df-ab44-d284190c8133",
   "metadata": {
    "scrolled": true
   },
   "outputs": [],
   "source": [
    "#Install tidyverse\n",
    "library(tidyverse)\n",
    "if (!dir.exists(\"intermediate\")) dir.create(\"intermediate\", recursive = TRUE)\n",
    "if (!exists(\"mdpre\")) mdpre <- function(x) { print(x) }\n",
    "if (!exists(\"ggmd\"))  ggmd  <- function(p) { print(p) }\n"
   ]
  },
  {
   "cell_type": "code",
   "execution_count": 172,
   "id": "2202974b-4456-467d-ae36-0063cd3e2d1b",
   "metadata": {},
   "outputs": [
    {
     "name": "stdout",
     "output_type": "stream",
     "text": [
      "\n",
      "The downloaded binary packages are in\n",
      "\t/var/folders/c1/3jgbfbvj7dv1_6065q6b0_300000gn/T//Rtmp3PIeBf/downloaded_packages\n"
     ]
    }
   ],
   "source": [
    "#Install lubridate\n",
    "install.packages(\"lubridate\")\n",
    "library(lubridate)"
   ]
  },
  {
   "cell_type": "code",
   "execution_count": 173,
   "id": "7bad3bfe-4162-416a-b892-0d7d63c67e39",
   "metadata": {},
   "outputs": [
    {
     "name": "stderr",
     "output_type": "stream",
     "text": [
      "\u001b[1mRows: \u001b[22m\u001b[34m3896\u001b[39m \u001b[1mColumns: \u001b[22m\u001b[34m3\u001b[39m\n",
      "\u001b[36m──\u001b[39m \u001b[1mColumn specification\u001b[22m \u001b[36m──────────────────────────────────────────────────────────────────────────────────────────────────────────────────\u001b[39m\n",
      "\u001b[1mDelimiter:\u001b[22m \",\"\n",
      "\u001b[31mchr\u001b[39m (3): ID, property, value\n",
      "\n",
      "\u001b[36mℹ\u001b[39m Use `spec()` to retrieve the full column specification for this data.\n",
      "\u001b[36mℹ\u001b[39m Specify the column types or set `show_col_types = FALSE` to quiet this message.\n",
      "\u001b[1mRows: \u001b[22m\u001b[34m974\u001b[39m \u001b[1mColumns: \u001b[22m\u001b[34m7\u001b[39m\n",
      "\u001b[36m──\u001b[39m \u001b[1mColumn specification\u001b[22m \u001b[36m──────────────────────────────────────────────────────────────────────────────────────────────────────────────────\u001b[39m\n",
      "\u001b[1mDelimiter:\u001b[22m \",\"\n",
      "\u001b[31mchr\u001b[39m (7): ID, BIRTHDATE, DEATHDATE, FIRST, LAST, CITY, STATE\n",
      "\n",
      "\u001b[36mℹ\u001b[39m Use `spec()` to retrieve the full column specification for this data.\n",
      "\u001b[36mℹ\u001b[39m Specify the column types or set `show_col_types = FALSE` to quiet this message.\n"
     ]
    },
    {
     "data": {
      "text/html": [
       "<table class=\"dataframe\">\n",
       "<caption>A tibble: 10 × 3</caption>\n",
       "<thead>\n",
       "\t<tr><th scope=col>ID</th><th scope=col>property</th><th scope=col>value</th></tr>\n",
       "\t<tr><th scope=col>&lt;chr&gt;</th><th scope=col>&lt;chr&gt;</th><th scope=col>&lt;chr&gt;</th></tr>\n",
       "</thead>\n",
       "<tbody>\n",
       "\t<tr><td>5605b66b-e92d-c16c-1b83-b8bf7040d51f</td><td>MARITAL  </td><td>M          </td></tr>\n",
       "\t<tr><td>5605b66b-e92d-c16c-1b83-b8bf7040d51f</td><td>RACE     </td><td>white      </td></tr>\n",
       "\t<tr><td>5605b66b-e92d-c16c-1b83-b8bf7040d51f</td><td>ETHNICITY</td><td>nonhispanic</td></tr>\n",
       "\t<tr><td>5605b66b-e92d-c16c-1b83-b8bf7040d51f</td><td>GENDER   </td><td>F          </td></tr>\n",
       "\t<tr><td>6e5ae27c-8038-7988-e2c0-25a103f01bfa</td><td>MARITAL  </td><td>M          </td></tr>\n",
       "\t<tr><td>6e5ae27c-8038-7988-e2c0-25a103f01bfa</td><td>RACE     </td><td>white      </td></tr>\n",
       "\t<tr><td>6e5ae27c-8038-7988-e2c0-25a103f01bfa</td><td>ETHNICITY</td><td>nonhispanic</td></tr>\n",
       "\t<tr><td>6e5ae27c-8038-7988-e2c0-25a103f01bfa</td><td>GENDER   </td><td>M          </td></tr>\n",
       "\t<tr><td>8123d076-0886-9007-e956-d5864aa121a7</td><td>MARITAL  </td><td>M          </td></tr>\n",
       "\t<tr><td>8123d076-0886-9007-e956-d5864aa121a7</td><td>RACE     </td><td>white      </td></tr>\n",
       "</tbody>\n",
       "</table>\n"
      ],
      "text/latex": [
       "A tibble: 10 × 3\n",
       "\\begin{tabular}{lll}\n",
       " ID & property & value\\\\\n",
       " <chr> & <chr> & <chr>\\\\\n",
       "\\hline\n",
       "\t 5605b66b-e92d-c16c-1b83-b8bf7040d51f & MARITAL   & M          \\\\\n",
       "\t 5605b66b-e92d-c16c-1b83-b8bf7040d51f & RACE      & white      \\\\\n",
       "\t 5605b66b-e92d-c16c-1b83-b8bf7040d51f & ETHNICITY & nonhispanic\\\\\n",
       "\t 5605b66b-e92d-c16c-1b83-b8bf7040d51f & GENDER    & F          \\\\\n",
       "\t 6e5ae27c-8038-7988-e2c0-25a103f01bfa & MARITAL   & M          \\\\\n",
       "\t 6e5ae27c-8038-7988-e2c0-25a103f01bfa & RACE      & white      \\\\\n",
       "\t 6e5ae27c-8038-7988-e2c0-25a103f01bfa & ETHNICITY & nonhispanic\\\\\n",
       "\t 6e5ae27c-8038-7988-e2c0-25a103f01bfa & GENDER    & M          \\\\\n",
       "\t 8123d076-0886-9007-e956-d5864aa121a7 & MARITAL   & M          \\\\\n",
       "\t 8123d076-0886-9007-e956-d5864aa121a7 & RACE      & white      \\\\\n",
       "\\end{tabular}\n"
      ],
      "text/markdown": [
       "\n",
       "A tibble: 10 × 3\n",
       "\n",
       "| ID &lt;chr&gt; | property &lt;chr&gt; | value &lt;chr&gt; |\n",
       "|---|---|---|\n",
       "| 5605b66b-e92d-c16c-1b83-b8bf7040d51f | MARITAL   | M           |\n",
       "| 5605b66b-e92d-c16c-1b83-b8bf7040d51f | RACE      | white       |\n",
       "| 5605b66b-e92d-c16c-1b83-b8bf7040d51f | ETHNICITY | nonhispanic |\n",
       "| 5605b66b-e92d-c16c-1b83-b8bf7040d51f | GENDER    | F           |\n",
       "| 6e5ae27c-8038-7988-e2c0-25a103f01bfa | MARITAL   | M           |\n",
       "| 6e5ae27c-8038-7988-e2c0-25a103f01bfa | RACE      | white       |\n",
       "| 6e5ae27c-8038-7988-e2c0-25a103f01bfa | ETHNICITY | nonhispanic |\n",
       "| 6e5ae27c-8038-7988-e2c0-25a103f01bfa | GENDER    | M           |\n",
       "| 8123d076-0886-9007-e956-d5864aa121a7 | MARITAL   | M           |\n",
       "| 8123d076-0886-9007-e956-d5864aa121a7 | RACE      | white       |\n",
       "\n"
      ],
      "text/plain": [
       "   ID                                   property  value      \n",
       "1  5605b66b-e92d-c16c-1b83-b8bf7040d51f MARITAL   M          \n",
       "2  5605b66b-e92d-c16c-1b83-b8bf7040d51f RACE      white      \n",
       "3  5605b66b-e92d-c16c-1b83-b8bf7040d51f ETHNICITY nonhispanic\n",
       "4  5605b66b-e92d-c16c-1b83-b8bf7040d51f GENDER    F          \n",
       "5  6e5ae27c-8038-7988-e2c0-25a103f01bfa MARITAL   M          \n",
       "6  6e5ae27c-8038-7988-e2c0-25a103f01bfa RACE      white      \n",
       "7  6e5ae27c-8038-7988-e2c0-25a103f01bfa ETHNICITY nonhispanic\n",
       "8  6e5ae27c-8038-7988-e2c0-25a103f01bfa GENDER    M          \n",
       "9  8123d076-0886-9007-e956-d5864aa121a7 MARITAL   M          \n",
       "10 8123d076-0886-9007-e956-d5864aa121a7 RACE      white      "
      ]
     },
     "metadata": {},
     "output_type": "display_data"
    },
    {
     "data": {
      "text/html": [
       "<table class=\"dataframe\">\n",
       "<caption>A tibble: 10 × 7</caption>\n",
       "<thead>\n",
       "\t<tr><th scope=col>ID</th><th scope=col>BIRTHDATE</th><th scope=col>DEATHDATE</th><th scope=col>FIRST</th><th scope=col>LAST</th><th scope=col>CITY</th><th scope=col>STATE</th></tr>\n",
       "\t<tr><th scope=col>&lt;chr&gt;</th><th scope=col>&lt;chr&gt;</th><th scope=col>&lt;chr&gt;</th><th scope=col>&lt;chr&gt;</th><th scope=col>&lt;chr&gt;</th><th scope=col>&lt;chr&gt;</th><th scope=col>&lt;chr&gt;</th></tr>\n",
       "</thead>\n",
       "<tbody>\n",
       "\t<tr><td>5605b66b-e92d-c16c-1b83-b8bf7040d51f</td><td>3/19/77 </td><td>NA     </td><td>Nikita578 </td><td>Erdman779     </td><td>Quincy   </td><td>Massachusetts</td></tr>\n",
       "\t<tr><td>6e5ae27c-8038-7988-e2c0-25a103f01bfa</td><td>2/19/40 </td><td>NA     </td><td>Zane918   </td><td>Hodkiewicz467 </td><td>Boston   </td><td>Massachusetts</td></tr>\n",
       "\t<tr><td>8123d076-0886-9007-e956-d5864aa121a7</td><td>6/4/58  </td><td>NA     </td><td>Quinn173  </td><td>Marquardt819  </td><td>Quincy   </td><td>Massachusetts</td></tr>\n",
       "\t<tr><td>770518e4-6133-648e-60c9-071eb2f0e2ce</td><td>12/25/28</td><td>9/29/17</td><td>Abel832   </td><td>Smitham825    </td><td>Boston   </td><td>Massachusetts</td></tr>\n",
       "\t<tr><td>f96addf5-81b9-0aab-7855-d208d3d352c5</td><td>12/25/28</td><td>2/23/14</td><td>Edwin773  </td><td>Labadie908    </td><td>Boston   </td><td>Massachusetts</td></tr>\n",
       "\t<tr><td>8e9650d1-788a-78f9-4a28-d08f7f95354a</td><td>12/25/28</td><td>NA     </td><td>Frankie174</td><td>Oberbrunner298</td><td>Boston   </td><td>Massachusetts</td></tr>\n",
       "\t<tr><td>183df435-4190-060e-8f8e-bf63c572b266</td><td>11/8/57 </td><td>NA     </td><td>Eilene124 </td><td>Walsh511      </td><td>Cambridge</td><td>Massachusetts</td></tr>\n",
       "\t<tr><td>720560d4-51da-c38c-ee90-c15935278df1</td><td>6/27/72 </td><td>NA     </td><td>Lowell343 </td><td>Price929      </td><td>Quincy   </td><td>Massachusetts</td></tr>\n",
       "\t<tr><td>217851b0-5f47-d376-18b9-0fe4ba77207e</td><td>3/6/54  </td><td>NA     </td><td>Adrian111 </td><td>Gleason633    </td><td>Boston   </td><td>Massachusetts</td></tr>\n",
       "\t<tr><td>ff331e5c-ab16-e218-f39a-63e11de1ed75</td><td>7/10/27 </td><td>NA     </td><td>Eugene421 </td><td>Abernathy524  </td><td>Boston   </td><td>Massachusetts</td></tr>\n",
       "</tbody>\n",
       "</table>\n"
      ],
      "text/latex": [
       "A tibble: 10 × 7\n",
       "\\begin{tabular}{lllllll}\n",
       " ID & BIRTHDATE & DEATHDATE & FIRST & LAST & CITY & STATE\\\\\n",
       " <chr> & <chr> & <chr> & <chr> & <chr> & <chr> & <chr>\\\\\n",
       "\\hline\n",
       "\t 5605b66b-e92d-c16c-1b83-b8bf7040d51f & 3/19/77  & NA      & Nikita578  & Erdman779      & Quincy    & Massachusetts\\\\\n",
       "\t 6e5ae27c-8038-7988-e2c0-25a103f01bfa & 2/19/40  & NA      & Zane918    & Hodkiewicz467  & Boston    & Massachusetts\\\\\n",
       "\t 8123d076-0886-9007-e956-d5864aa121a7 & 6/4/58   & NA      & Quinn173   & Marquardt819   & Quincy    & Massachusetts\\\\\n",
       "\t 770518e4-6133-648e-60c9-071eb2f0e2ce & 12/25/28 & 9/29/17 & Abel832    & Smitham825     & Boston    & Massachusetts\\\\\n",
       "\t f96addf5-81b9-0aab-7855-d208d3d352c5 & 12/25/28 & 2/23/14 & Edwin773   & Labadie908     & Boston    & Massachusetts\\\\\n",
       "\t 8e9650d1-788a-78f9-4a28-d08f7f95354a & 12/25/28 & NA      & Frankie174 & Oberbrunner298 & Boston    & Massachusetts\\\\\n",
       "\t 183df435-4190-060e-8f8e-bf63c572b266 & 11/8/57  & NA      & Eilene124  & Walsh511       & Cambridge & Massachusetts\\\\\n",
       "\t 720560d4-51da-c38c-ee90-c15935278df1 & 6/27/72  & NA      & Lowell343  & Price929       & Quincy    & Massachusetts\\\\\n",
       "\t 217851b0-5f47-d376-18b9-0fe4ba77207e & 3/6/54   & NA      & Adrian111  & Gleason633     & Boston    & Massachusetts\\\\\n",
       "\t ff331e5c-ab16-e218-f39a-63e11de1ed75 & 7/10/27  & NA      & Eugene421  & Abernathy524   & Boston    & Massachusetts\\\\\n",
       "\\end{tabular}\n"
      ],
      "text/markdown": [
       "\n",
       "A tibble: 10 × 7\n",
       "\n",
       "| ID &lt;chr&gt; | BIRTHDATE &lt;chr&gt; | DEATHDATE &lt;chr&gt; | FIRST &lt;chr&gt; | LAST &lt;chr&gt; | CITY &lt;chr&gt; | STATE &lt;chr&gt; |\n",
       "|---|---|---|---|---|---|---|\n",
       "| 5605b66b-e92d-c16c-1b83-b8bf7040d51f | 3/19/77  | NA      | Nikita578  | Erdman779      | Quincy    | Massachusetts |\n",
       "| 6e5ae27c-8038-7988-e2c0-25a103f01bfa | 2/19/40  | NA      | Zane918    | Hodkiewicz467  | Boston    | Massachusetts |\n",
       "| 8123d076-0886-9007-e956-d5864aa121a7 | 6/4/58   | NA      | Quinn173   | Marquardt819   | Quincy    | Massachusetts |\n",
       "| 770518e4-6133-648e-60c9-071eb2f0e2ce | 12/25/28 | 9/29/17 | Abel832    | Smitham825     | Boston    | Massachusetts |\n",
       "| f96addf5-81b9-0aab-7855-d208d3d352c5 | 12/25/28 | 2/23/14 | Edwin773   | Labadie908     | Boston    | Massachusetts |\n",
       "| 8e9650d1-788a-78f9-4a28-d08f7f95354a | 12/25/28 | NA      | Frankie174 | Oberbrunner298 | Boston    | Massachusetts |\n",
       "| 183df435-4190-060e-8f8e-bf63c572b266 | 11/8/57  | NA      | Eilene124  | Walsh511       | Cambridge | Massachusetts |\n",
       "| 720560d4-51da-c38c-ee90-c15935278df1 | 6/27/72  | NA      | Lowell343  | Price929       | Quincy    | Massachusetts |\n",
       "| 217851b0-5f47-d376-18b9-0fe4ba77207e | 3/6/54   | NA      | Adrian111  | Gleason633     | Boston    | Massachusetts |\n",
       "| ff331e5c-ab16-e218-f39a-63e11de1ed75 | 7/10/27  | NA      | Eugene421  | Abernathy524   | Boston    | Massachusetts |\n",
       "\n"
      ],
      "text/plain": [
       "   ID                                   BIRTHDATE DEATHDATE FIRST     \n",
       "1  5605b66b-e92d-c16c-1b83-b8bf7040d51f 3/19/77   NA        Nikita578 \n",
       "2  6e5ae27c-8038-7988-e2c0-25a103f01bfa 2/19/40   NA        Zane918   \n",
       "3  8123d076-0886-9007-e956-d5864aa121a7 6/4/58    NA        Quinn173  \n",
       "4  770518e4-6133-648e-60c9-071eb2f0e2ce 12/25/28  9/29/17   Abel832   \n",
       "5  f96addf5-81b9-0aab-7855-d208d3d352c5 12/25/28  2/23/14   Edwin773  \n",
       "6  8e9650d1-788a-78f9-4a28-d08f7f95354a 12/25/28  NA        Frankie174\n",
       "7  183df435-4190-060e-8f8e-bf63c572b266 11/8/57   NA        Eilene124 \n",
       "8  720560d4-51da-c38c-ee90-c15935278df1 6/27/72   NA        Lowell343 \n",
       "9  217851b0-5f47-d376-18b9-0fe4ba77207e 3/6/54    NA        Adrian111 \n",
       "10 ff331e5c-ab16-e218-f39a-63e11de1ed75 7/10/27   NA        Eugene421 \n",
       "   LAST           CITY      STATE        \n",
       "1  Erdman779      Quincy    Massachusetts\n",
       "2  Hodkiewicz467  Boston    Massachusetts\n",
       "3  Marquardt819   Quincy    Massachusetts\n",
       "4  Smitham825     Boston    Massachusetts\n",
       "5  Labadie908     Boston    Massachusetts\n",
       "6  Oberbrunner298 Boston    Massachusetts\n",
       "7  Walsh511       Cambridge Massachusetts\n",
       "8  Price929       Quincy    Massachusetts\n",
       "9  Gleason633     Boston    Massachusetts\n",
       "10 Abernathy524   Boston    Massachusetts"
      ]
     },
     "metadata": {},
     "output_type": "display_data"
    }
   ],
   "source": [
    "#QUESTION 5\n",
    "#Download the patient_names and patient_properties csv files \n",
    "properties <- read_csv(\"patient_properties.csv\")\n",
    "names <- read_csv(\"patient_names.csv\")\n",
    "#Print the first 10 observations of each\n",
    "head(properties, 10)\n",
    "head(names, 10)\n",
    "      "
   ]
  },
  {
   "cell_type": "code",
   "execution_count": 174,
   "id": "5a3c03c0-d780-4b9b-b25a-231abdc44c25",
   "metadata": {},
   "outputs": [
    {
     "name": "stdout",
     "output_type": "stream",
     "text": [
      "spc_tbl_ [3,896 × 3] (S3: spec_tbl_df/tbl_df/tbl/data.frame)\n",
      " $ ID      : chr [1:3896] \"5605b66b-e92d-c16c-1b83-b8bf7040d51f\" \"5605b66b-e92d-c16c-1b83-b8bf7040d51f\" \"5605b66b-e92d-c16c-1b83-b8bf7040d51f\" \"5605b66b-e92d-c16c-1b83-b8bf7040d51f\" ...\n",
      " $ property: chr [1:3896] \"MARITAL\" \"RACE\" \"ETHNICITY\" \"GENDER\" ...\n",
      " $ value   : chr [1:3896] \"M\" \"white\" \"nonhispanic\" \"F\" ...\n",
      " - attr(*, \"spec\")=\n",
      "  .. cols(\n",
      "  ..   ID = \u001b[31mcol_character()\u001b[39m,\n",
      "  ..   property = \u001b[31mcol_character()\u001b[39m,\n",
      "  ..   value = \u001b[31mcol_character()\u001b[39m\n",
      "  .. )\n",
      " - attr(*, \"problems\")=<externalptr> \n",
      "spc_tbl_ [974 × 7] (S3: spec_tbl_df/tbl_df/tbl/data.frame)\n",
      " $ ID       : chr [1:974] \"5605b66b-e92d-c16c-1b83-b8bf7040d51f\" \"6e5ae27c-8038-7988-e2c0-25a103f01bfa\" \"8123d076-0886-9007-e956-d5864aa121a7\" \"770518e4-6133-648e-60c9-071eb2f0e2ce\" ...\n",
      " $ BIRTHDATE: chr [1:974] \"3/19/77\" \"2/19/40\" \"6/4/58\" \"12/25/28\" ...\n",
      " $ DEATHDATE: chr [1:974] NA NA NA \"9/29/17\" ...\n",
      " $ FIRST    : chr [1:974] \"Nikita578\" \"Zane918\" \"Quinn173\" \"Abel832\" ...\n",
      " $ LAST     : chr [1:974] \"Erdman779\" \"Hodkiewicz467\" \"Marquardt819\" \"Smitham825\" ...\n",
      " $ CITY     : chr [1:974] \"Quincy\" \"Boston\" \"Quincy\" \"Boston\" ...\n",
      " $ STATE    : chr [1:974] \"Massachusetts\" \"Massachusetts\" \"Massachusetts\" \"Massachusetts\" ...\n",
      " - attr(*, \"spec\")=\n",
      "  .. cols(\n",
      "  ..   ID = \u001b[31mcol_character()\u001b[39m,\n",
      "  ..   BIRTHDATE = \u001b[31mcol_character()\u001b[39m,\n",
      "  ..   DEATHDATE = \u001b[31mcol_character()\u001b[39m,\n",
      "  ..   FIRST = \u001b[31mcol_character()\u001b[39m,\n",
      "  ..   LAST = \u001b[31mcol_character()\u001b[39m,\n",
      "  ..   CITY = \u001b[31mcol_character()\u001b[39m,\n",
      "  ..   STATE = \u001b[31mcol_character()\u001b[39m\n",
      "  .. )\n",
      " - attr(*, \"problems\")=<externalptr> \n"
     ]
    }
   ],
   "source": [
    "#Manually set the date columns to be date variables\n",
    "#Check data structure of columns\n",
    "str(properties)\n",
    "str(names)"
   ]
  },
  {
   "cell_type": "code",
   "execution_count": 175,
   "id": "55d7524e-f985-4826-bb46-fd9a0257a3e7",
   "metadata": {},
   "outputs": [
    {
     "name": "stdout",
     "output_type": "stream",
     "text": [
      " Date[1:974], format: \"1977-03-19\" \"1940-02-19\" \"1958-06-04\" \"1928-12-25\" \"1928-12-25\" ...\n"
     ]
    },
    {
     "data": {
      "text/html": [
       "<style>\n",
       ".list-inline {list-style: none; margin:0; padding: 0}\n",
       ".list-inline>li {display: inline-block}\n",
       ".list-inline>li:not(:last-child)::after {content: \"\\00b7\"; padding: 0 .5ex}\n",
       "</style>\n",
       "<ol class=list-inline><li><time datetime=\"1977-03-19\">1977-03-19</time></li><li><time datetime=\"1940-02-19\">1940-02-19</time></li><li><time datetime=\"1958-06-04\">1958-06-04</time></li><li><time datetime=\"1928-12-25\">1928-12-25</time></li><li><time datetime=\"1928-12-25\">1928-12-25</time></li><li><time datetime=\"1928-12-25\">1928-12-25</time></li></ol>\n"
      ],
      "text/latex": [
       "\\begin{enumerate*}\n",
       "\\item 1977-03-19\n",
       "\\item 1940-02-19\n",
       "\\item 1958-06-04\n",
       "\\item 1928-12-25\n",
       "\\item 1928-12-25\n",
       "\\item 1928-12-25\n",
       "\\end{enumerate*}\n"
      ],
      "text/markdown": [
       "1. 1977-03-19\n",
       "2. 1940-02-19\n",
       "3. 1958-06-04\n",
       "4. 1928-12-25\n",
       "5. 1928-12-25\n",
       "6. 1928-12-25\n",
       "\n",
       "\n"
      ],
      "text/plain": [
       "[1] \"1977-03-19\" \"1940-02-19\" \"1958-06-04\" \"1928-12-25\" \"1928-12-25\"\n",
       "[6] \"1928-12-25\""
      ]
     },
     "metadata": {},
     "output_type": "display_data"
    }
   ],
   "source": [
    "#Manually set the date columns to be date variables\n",
    "bday <- mdy(names$BIRTHDATE)\n",
    "#Fix future date problem (e.g., 2040)\n",
    "bday[bday > Sys.Date()] <- bday[bday > Sys.Date()] %m-% years(100)\n",
    "\n",
    "str(bday)\n",
    "head(bday)"
   ]
  },
  {
   "cell_type": "code",
   "execution_count": 176,
   "id": "c8dde494-f846-49d0-8cf6-d2bd960153d9",
   "metadata": {},
   "outputs": [
    {
     "name": "stdout",
     "output_type": "stream",
     "text": [
      " [1] \"1977-03-19\" \"1940-02-19\" \"1958-06-04\" \"1928-12-25\" \"1928-12-25\"\n",
      " [6] \"1928-12-25\" \"1957-11-08\" \"1972-06-27\" \"1954-03-06\" \"1927-07-10\"\n"
     ]
    },
    {
     "data": {
      "text/html": [
       "'Date'"
      ],
      "text/latex": [
       "'Date'"
      ],
      "text/markdown": [
       "'Date'"
      ],
      "text/plain": [
       "[1] \"Date\""
      ]
     },
     "metadata": {},
     "output_type": "display_data"
    }
   ],
   "source": [
    "#Check first ten\n",
    "print(bday[1:10])\n",
    "class(bday)"
   ]
  },
  {
   "cell_type": "code",
   "execution_count": 177,
   "id": "5cf41106-4f81-4be0-b88e-9045a3629a79",
   "metadata": {},
   "outputs": [
    {
     "data": {
      "text/html": [
       "<table class=\"dataframe\">\n",
       "<caption>A tibble: 10 × 5</caption>\n",
       "<thead>\n",
       "\t<tr><th scope=col>ID</th><th scope=col>MARITAL</th><th scope=col>RACE</th><th scope=col>ETHNICITY</th><th scope=col>GENDER</th></tr>\n",
       "\t<tr><th scope=col>&lt;chr&gt;</th><th scope=col>&lt;chr&gt;</th><th scope=col>&lt;chr&gt;</th><th scope=col>&lt;chr&gt;</th><th scope=col>&lt;chr&gt;</th></tr>\n",
       "</thead>\n",
       "<tbody>\n",
       "\t<tr><td>5605b66b-e92d-c16c-1b83-b8bf7040d51f</td><td>M</td><td>white </td><td>nonhispanic</td><td>F</td></tr>\n",
       "\t<tr><td>6e5ae27c-8038-7988-e2c0-25a103f01bfa</td><td>M</td><td>white </td><td>nonhispanic</td><td>M</td></tr>\n",
       "\t<tr><td>8123d076-0886-9007-e956-d5864aa121a7</td><td>M</td><td>white </td><td>nonhispanic</td><td>M</td></tr>\n",
       "\t<tr><td>770518e4-6133-648e-60c9-071eb2f0e2ce</td><td>M</td><td>white </td><td>hispanic   </td><td>M</td></tr>\n",
       "\t<tr><td>f96addf5-81b9-0aab-7855-d208d3d352c5</td><td>M</td><td>white </td><td>hispanic   </td><td>M</td></tr>\n",
       "\t<tr><td>8e9650d1-788a-78f9-4a28-d08f7f95354a</td><td>M</td><td>white </td><td>hispanic   </td><td>M</td></tr>\n",
       "\t<tr><td>183df435-4190-060e-8f8e-bf63c572b266</td><td>M</td><td>asian </td><td>nonhispanic</td><td>F</td></tr>\n",
       "\t<tr><td>720560d4-51da-c38c-ee90-c15935278df1</td><td>M</td><td>white </td><td>nonhispanic</td><td>M</td></tr>\n",
       "\t<tr><td>217851b0-5f47-d376-18b9-0fe4ba77207e</td><td>S</td><td>black </td><td>hispanic   </td><td>M</td></tr>\n",
       "\t<tr><td>ff331e5c-ab16-e218-f39a-63e11de1ed75</td><td>M</td><td>native</td><td>hispanic   </td><td>M</td></tr>\n",
       "</tbody>\n",
       "</table>\n"
      ],
      "text/latex": [
       "A tibble: 10 × 5\n",
       "\\begin{tabular}{lllll}\n",
       " ID & MARITAL & RACE & ETHNICITY & GENDER\\\\\n",
       " <chr> & <chr> & <chr> & <chr> & <chr>\\\\\n",
       "\\hline\n",
       "\t 5605b66b-e92d-c16c-1b83-b8bf7040d51f & M & white  & nonhispanic & F\\\\\n",
       "\t 6e5ae27c-8038-7988-e2c0-25a103f01bfa & M & white  & nonhispanic & M\\\\\n",
       "\t 8123d076-0886-9007-e956-d5864aa121a7 & M & white  & nonhispanic & M\\\\\n",
       "\t 770518e4-6133-648e-60c9-071eb2f0e2ce & M & white  & hispanic    & M\\\\\n",
       "\t f96addf5-81b9-0aab-7855-d208d3d352c5 & M & white  & hispanic    & M\\\\\n",
       "\t 8e9650d1-788a-78f9-4a28-d08f7f95354a & M & white  & hispanic    & M\\\\\n",
       "\t 183df435-4190-060e-8f8e-bf63c572b266 & M & asian  & nonhispanic & F\\\\\n",
       "\t 720560d4-51da-c38c-ee90-c15935278df1 & M & white  & nonhispanic & M\\\\\n",
       "\t 217851b0-5f47-d376-18b9-0fe4ba77207e & S & black  & hispanic    & M\\\\\n",
       "\t ff331e5c-ab16-e218-f39a-63e11de1ed75 & M & native & hispanic    & M\\\\\n",
       "\\end{tabular}\n"
      ],
      "text/markdown": [
       "\n",
       "A tibble: 10 × 5\n",
       "\n",
       "| ID &lt;chr&gt; | MARITAL &lt;chr&gt; | RACE &lt;chr&gt; | ETHNICITY &lt;chr&gt; | GENDER &lt;chr&gt; |\n",
       "|---|---|---|---|---|\n",
       "| 5605b66b-e92d-c16c-1b83-b8bf7040d51f | M | white  | nonhispanic | F |\n",
       "| 6e5ae27c-8038-7988-e2c0-25a103f01bfa | M | white  | nonhispanic | M |\n",
       "| 8123d076-0886-9007-e956-d5864aa121a7 | M | white  | nonhispanic | M |\n",
       "| 770518e4-6133-648e-60c9-071eb2f0e2ce | M | white  | hispanic    | M |\n",
       "| f96addf5-81b9-0aab-7855-d208d3d352c5 | M | white  | hispanic    | M |\n",
       "| 8e9650d1-788a-78f9-4a28-d08f7f95354a | M | white  | hispanic    | M |\n",
       "| 183df435-4190-060e-8f8e-bf63c572b266 | M | asian  | nonhispanic | F |\n",
       "| 720560d4-51da-c38c-ee90-c15935278df1 | M | white  | nonhispanic | M |\n",
       "| 217851b0-5f47-d376-18b9-0fe4ba77207e | S | black  | hispanic    | M |\n",
       "| ff331e5c-ab16-e218-f39a-63e11de1ed75 | M | native | hispanic    | M |\n",
       "\n"
      ],
      "text/plain": [
       "   ID                                   MARITAL RACE   ETHNICITY   GENDER\n",
       "1  5605b66b-e92d-c16c-1b83-b8bf7040d51f M       white  nonhispanic F     \n",
       "2  6e5ae27c-8038-7988-e2c0-25a103f01bfa M       white  nonhispanic M     \n",
       "3  8123d076-0886-9007-e956-d5864aa121a7 M       white  nonhispanic M     \n",
       "4  770518e4-6133-648e-60c9-071eb2f0e2ce M       white  hispanic    M     \n",
       "5  f96addf5-81b9-0aab-7855-d208d3d352c5 M       white  hispanic    M     \n",
       "6  8e9650d1-788a-78f9-4a28-d08f7f95354a M       white  hispanic    M     \n",
       "7  183df435-4190-060e-8f8e-bf63c572b266 M       asian  nonhispanic F     \n",
       "8  720560d4-51da-c38c-ee90-c15935278df1 M       white  nonhispanic M     \n",
       "9  217851b0-5f47-d376-18b9-0fe4ba77207e S       black  hispanic    M     \n",
       "10 ff331e5c-ab16-e218-f39a-63e11de1ed75 M       native hispanic    M     "
      ]
     },
     "metadata": {},
     "output_type": "display_data"
    }
   ],
   "source": [
    "#Question 6\n",
    "#Pivot to make the properties their own columns\n",
    "properties_wide <- properties %>%\n",
    "pivot_wider(\n",
    "    names_from = property,\n",
    "    values_from = value\n",
    "    )\n",
    "\n",
    "#Print the first 10 observations\n",
    "properties_wide[1:10, ]"
   ]
  },
  {
   "cell_type": "code",
   "execution_count": 178,
   "id": "eb77d513-4d06-4e18-8e64-dcc528ff9b53",
   "metadata": {},
   "outputs": [
    {
     "name": "stdout",
     "output_type": "stream",
     "text": [
      "spc_tbl_ [974 × 11] (S3: spec_tbl_df/tbl_df/tbl/data.frame)\n",
      " $ ID       : chr [1:974] \"5605b66b-e92d-c16c-1b83-b8bf7040d51f\" \"6e5ae27c-8038-7988-e2c0-25a103f01bfa\" \"8123d076-0886-9007-e956-d5864aa121a7\" \"770518e4-6133-648e-60c9-071eb2f0e2ce\" ...\n",
      " $ BIRTHDATE: chr [1:974] \"3/19/77\" \"2/19/40\" \"6/4/58\" \"12/25/28\" ...\n",
      " $ DEATHDATE: chr [1:974] NA NA NA \"9/29/17\" ...\n",
      " $ FIRST    : chr [1:974] \"Nikita578\" \"Zane918\" \"Quinn173\" \"Abel832\" ...\n",
      " $ LAST     : chr [1:974] \"Erdman779\" \"Hodkiewicz467\" \"Marquardt819\" \"Smitham825\" ...\n",
      " $ CITY     : chr [1:974] \"Quincy\" \"Boston\" \"Quincy\" \"Boston\" ...\n",
      " $ STATE    : chr [1:974] \"Massachusetts\" \"Massachusetts\" \"Massachusetts\" \"Massachusetts\" ...\n",
      " $ MARITAL  : chr [1:974] \"M\" \"M\" \"M\" \"M\" ...\n",
      " $ RACE     : chr [1:974] \"white\" \"white\" \"white\" \"white\" ...\n",
      " $ ETHNICITY: chr [1:974] \"nonhispanic\" \"nonhispanic\" \"nonhispanic\" \"hispanic\" ...\n",
      " $ GENDER   : chr [1:974] \"F\" \"M\" \"M\" \"M\" ...\n",
      " - attr(*, \"spec\")=\n",
      "  .. cols(\n",
      "  ..   ID = \u001b[31mcol_character()\u001b[39m,\n",
      "  ..   BIRTHDATE = \u001b[31mcol_character()\u001b[39m,\n",
      "  ..   DEATHDATE = \u001b[31mcol_character()\u001b[39m,\n",
      "  ..   FIRST = \u001b[31mcol_character()\u001b[39m,\n",
      "  ..   LAST = \u001b[31mcol_character()\u001b[39m,\n",
      "  ..   CITY = \u001b[31mcol_character()\u001b[39m,\n",
      "  ..   STATE = \u001b[31mcol_character()\u001b[39m\n",
      "  .. )\n",
      " - attr(*, \"problems\")=<externalptr> \n"
     ]
    },
    {
     "data": {
      "text/html": [
       "<table class=\"dataframe\">\n",
       "<caption>A tibble: 10 × 11</caption>\n",
       "<thead>\n",
       "\t<tr><th scope=col>ID</th><th scope=col>BIRTHDATE</th><th scope=col>DEATHDATE</th><th scope=col>FIRST</th><th scope=col>LAST</th><th scope=col>CITY</th><th scope=col>STATE</th><th scope=col>MARITAL</th><th scope=col>RACE</th><th scope=col>ETHNICITY</th><th scope=col>GENDER</th></tr>\n",
       "\t<tr><th scope=col>&lt;chr&gt;</th><th scope=col>&lt;chr&gt;</th><th scope=col>&lt;chr&gt;</th><th scope=col>&lt;chr&gt;</th><th scope=col>&lt;chr&gt;</th><th scope=col>&lt;chr&gt;</th><th scope=col>&lt;chr&gt;</th><th scope=col>&lt;chr&gt;</th><th scope=col>&lt;chr&gt;</th><th scope=col>&lt;chr&gt;</th><th scope=col>&lt;chr&gt;</th></tr>\n",
       "</thead>\n",
       "<tbody>\n",
       "\t<tr><td>5605b66b-e92d-c16c-1b83-b8bf7040d51f</td><td>3/19/77 </td><td>NA     </td><td>Nikita578 </td><td>Erdman779     </td><td>Quincy   </td><td>Massachusetts</td><td>M</td><td>white </td><td>nonhispanic</td><td>F</td></tr>\n",
       "\t<tr><td>6e5ae27c-8038-7988-e2c0-25a103f01bfa</td><td>2/19/40 </td><td>NA     </td><td>Zane918   </td><td>Hodkiewicz467 </td><td>Boston   </td><td>Massachusetts</td><td>M</td><td>white </td><td>nonhispanic</td><td>M</td></tr>\n",
       "\t<tr><td>8123d076-0886-9007-e956-d5864aa121a7</td><td>6/4/58  </td><td>NA     </td><td>Quinn173  </td><td>Marquardt819  </td><td>Quincy   </td><td>Massachusetts</td><td>M</td><td>white </td><td>nonhispanic</td><td>M</td></tr>\n",
       "\t<tr><td>770518e4-6133-648e-60c9-071eb2f0e2ce</td><td>12/25/28</td><td>9/29/17</td><td>Abel832   </td><td>Smitham825    </td><td>Boston   </td><td>Massachusetts</td><td>M</td><td>white </td><td>hispanic   </td><td>M</td></tr>\n",
       "\t<tr><td>f96addf5-81b9-0aab-7855-d208d3d352c5</td><td>12/25/28</td><td>2/23/14</td><td>Edwin773  </td><td>Labadie908    </td><td>Boston   </td><td>Massachusetts</td><td>M</td><td>white </td><td>hispanic   </td><td>M</td></tr>\n",
       "\t<tr><td>8e9650d1-788a-78f9-4a28-d08f7f95354a</td><td>12/25/28</td><td>NA     </td><td>Frankie174</td><td>Oberbrunner298</td><td>Boston   </td><td>Massachusetts</td><td>M</td><td>white </td><td>hispanic   </td><td>M</td></tr>\n",
       "\t<tr><td>183df435-4190-060e-8f8e-bf63c572b266</td><td>11/8/57 </td><td>NA     </td><td>Eilene124 </td><td>Walsh511      </td><td>Cambridge</td><td>Massachusetts</td><td>M</td><td>asian </td><td>nonhispanic</td><td>F</td></tr>\n",
       "\t<tr><td>720560d4-51da-c38c-ee90-c15935278df1</td><td>6/27/72 </td><td>NA     </td><td>Lowell343 </td><td>Price929      </td><td>Quincy   </td><td>Massachusetts</td><td>M</td><td>white </td><td>nonhispanic</td><td>M</td></tr>\n",
       "\t<tr><td>217851b0-5f47-d376-18b9-0fe4ba77207e</td><td>3/6/54  </td><td>NA     </td><td>Adrian111 </td><td>Gleason633    </td><td>Boston   </td><td>Massachusetts</td><td>S</td><td>black </td><td>hispanic   </td><td>M</td></tr>\n",
       "\t<tr><td>ff331e5c-ab16-e218-f39a-63e11de1ed75</td><td>7/10/27 </td><td>NA     </td><td>Eugene421 </td><td>Abernathy524  </td><td>Boston   </td><td>Massachusetts</td><td>M</td><td>native</td><td>hispanic   </td><td>M</td></tr>\n",
       "</tbody>\n",
       "</table>\n"
      ],
      "text/latex": [
       "A tibble: 10 × 11\n",
       "\\begin{tabular}{lllllllllll}\n",
       " ID & BIRTHDATE & DEATHDATE & FIRST & LAST & CITY & STATE & MARITAL & RACE & ETHNICITY & GENDER\\\\\n",
       " <chr> & <chr> & <chr> & <chr> & <chr> & <chr> & <chr> & <chr> & <chr> & <chr> & <chr>\\\\\n",
       "\\hline\n",
       "\t 5605b66b-e92d-c16c-1b83-b8bf7040d51f & 3/19/77  & NA      & Nikita578  & Erdman779      & Quincy    & Massachusetts & M & white  & nonhispanic & F\\\\\n",
       "\t 6e5ae27c-8038-7988-e2c0-25a103f01bfa & 2/19/40  & NA      & Zane918    & Hodkiewicz467  & Boston    & Massachusetts & M & white  & nonhispanic & M\\\\\n",
       "\t 8123d076-0886-9007-e956-d5864aa121a7 & 6/4/58   & NA      & Quinn173   & Marquardt819   & Quincy    & Massachusetts & M & white  & nonhispanic & M\\\\\n",
       "\t 770518e4-6133-648e-60c9-071eb2f0e2ce & 12/25/28 & 9/29/17 & Abel832    & Smitham825     & Boston    & Massachusetts & M & white  & hispanic    & M\\\\\n",
       "\t f96addf5-81b9-0aab-7855-d208d3d352c5 & 12/25/28 & 2/23/14 & Edwin773   & Labadie908     & Boston    & Massachusetts & M & white  & hispanic    & M\\\\\n",
       "\t 8e9650d1-788a-78f9-4a28-d08f7f95354a & 12/25/28 & NA      & Frankie174 & Oberbrunner298 & Boston    & Massachusetts & M & white  & hispanic    & M\\\\\n",
       "\t 183df435-4190-060e-8f8e-bf63c572b266 & 11/8/57  & NA      & Eilene124  & Walsh511       & Cambridge & Massachusetts & M & asian  & nonhispanic & F\\\\\n",
       "\t 720560d4-51da-c38c-ee90-c15935278df1 & 6/27/72  & NA      & Lowell343  & Price929       & Quincy    & Massachusetts & M & white  & nonhispanic & M\\\\\n",
       "\t 217851b0-5f47-d376-18b9-0fe4ba77207e & 3/6/54   & NA      & Adrian111  & Gleason633     & Boston    & Massachusetts & S & black  & hispanic    & M\\\\\n",
       "\t ff331e5c-ab16-e218-f39a-63e11de1ed75 & 7/10/27  & NA      & Eugene421  & Abernathy524   & Boston    & Massachusetts & M & native & hispanic    & M\\\\\n",
       "\\end{tabular}\n"
      ],
      "text/markdown": [
       "\n",
       "A tibble: 10 × 11\n",
       "\n",
       "| ID &lt;chr&gt; | BIRTHDATE &lt;chr&gt; | DEATHDATE &lt;chr&gt; | FIRST &lt;chr&gt; | LAST &lt;chr&gt; | CITY &lt;chr&gt; | STATE &lt;chr&gt; | MARITAL &lt;chr&gt; | RACE &lt;chr&gt; | ETHNICITY &lt;chr&gt; | GENDER &lt;chr&gt; |\n",
       "|---|---|---|---|---|---|---|---|---|---|---|\n",
       "| 5605b66b-e92d-c16c-1b83-b8bf7040d51f | 3/19/77  | NA      | Nikita578  | Erdman779      | Quincy    | Massachusetts | M | white  | nonhispanic | F |\n",
       "| 6e5ae27c-8038-7988-e2c0-25a103f01bfa | 2/19/40  | NA      | Zane918    | Hodkiewicz467  | Boston    | Massachusetts | M | white  | nonhispanic | M |\n",
       "| 8123d076-0886-9007-e956-d5864aa121a7 | 6/4/58   | NA      | Quinn173   | Marquardt819   | Quincy    | Massachusetts | M | white  | nonhispanic | M |\n",
       "| 770518e4-6133-648e-60c9-071eb2f0e2ce | 12/25/28 | 9/29/17 | Abel832    | Smitham825     | Boston    | Massachusetts | M | white  | hispanic    | M |\n",
       "| f96addf5-81b9-0aab-7855-d208d3d352c5 | 12/25/28 | 2/23/14 | Edwin773   | Labadie908     | Boston    | Massachusetts | M | white  | hispanic    | M |\n",
       "| 8e9650d1-788a-78f9-4a28-d08f7f95354a | 12/25/28 | NA      | Frankie174 | Oberbrunner298 | Boston    | Massachusetts | M | white  | hispanic    | M |\n",
       "| 183df435-4190-060e-8f8e-bf63c572b266 | 11/8/57  | NA      | Eilene124  | Walsh511       | Cambridge | Massachusetts | M | asian  | nonhispanic | F |\n",
       "| 720560d4-51da-c38c-ee90-c15935278df1 | 6/27/72  | NA      | Lowell343  | Price929       | Quincy    | Massachusetts | M | white  | nonhispanic | M |\n",
       "| 217851b0-5f47-d376-18b9-0fe4ba77207e | 3/6/54   | NA      | Adrian111  | Gleason633     | Boston    | Massachusetts | S | black  | hispanic    | M |\n",
       "| ff331e5c-ab16-e218-f39a-63e11de1ed75 | 7/10/27  | NA      | Eugene421  | Abernathy524   | Boston    | Massachusetts | M | native | hispanic    | M |\n",
       "\n"
      ],
      "text/plain": [
       "   ID                                   BIRTHDATE DEATHDATE FIRST     \n",
       "1  5605b66b-e92d-c16c-1b83-b8bf7040d51f 3/19/77   NA        Nikita578 \n",
       "2  6e5ae27c-8038-7988-e2c0-25a103f01bfa 2/19/40   NA        Zane918   \n",
       "3  8123d076-0886-9007-e956-d5864aa121a7 6/4/58    NA        Quinn173  \n",
       "4  770518e4-6133-648e-60c9-071eb2f0e2ce 12/25/28  9/29/17   Abel832   \n",
       "5  f96addf5-81b9-0aab-7855-d208d3d352c5 12/25/28  2/23/14   Edwin773  \n",
       "6  8e9650d1-788a-78f9-4a28-d08f7f95354a 12/25/28  NA        Frankie174\n",
       "7  183df435-4190-060e-8f8e-bf63c572b266 11/8/57   NA        Eilene124 \n",
       "8  720560d4-51da-c38c-ee90-c15935278df1 6/27/72   NA        Lowell343 \n",
       "9  217851b0-5f47-d376-18b9-0fe4ba77207e 3/6/54    NA        Adrian111 \n",
       "10 ff331e5c-ab16-e218-f39a-63e11de1ed75 7/10/27   NA        Eugene421 \n",
       "   LAST           CITY      STATE         MARITAL RACE   ETHNICITY   GENDER\n",
       "1  Erdman779      Quincy    Massachusetts M       white  nonhispanic F     \n",
       "2  Hodkiewicz467  Boston    Massachusetts M       white  nonhispanic M     \n",
       "3  Marquardt819   Quincy    Massachusetts M       white  nonhispanic M     \n",
       "4  Smitham825     Boston    Massachusetts M       white  hispanic    M     \n",
       "5  Labadie908     Boston    Massachusetts M       white  hispanic    M     \n",
       "6  Oberbrunner298 Boston    Massachusetts M       white  hispanic    M     \n",
       "7  Walsh511       Cambridge Massachusetts M       asian  nonhispanic F     \n",
       "8  Price929       Quincy    Massachusetts M       white  nonhispanic M     \n",
       "9  Gleason633     Boston    Massachusetts S       black  hispanic    M     \n",
       "10 Abernathy524   Boston    Massachusetts M       native hispanic    M     "
      ]
     },
     "metadata": {},
     "output_type": "display_data"
    }
   ],
   "source": [
    "#Question 7\n",
    "#Perform a left join of the names and properties_wide data frames by the ID column\n",
    "library(dplyr)\n",
    "names_joined <- names %>%\n",
    "left_join(properties_wide, by = \"ID\")\n",
    "#Print the first 10 rows\n",
    "str(names_joined)\n",
    "head(names_joined, 10)"
   ]
  },
  {
   "cell_type": "code",
   "execution_count": 179,
   "id": "f93688ac-0c57-478e-8581-cb8e05b40f6f",
   "metadata": {},
   "outputs": [
    {
     "data": {
      "text/html": [
       "<table class=\"dataframe\">\n",
       "<caption>A tibble: 10 × 2</caption>\n",
       "<thead>\n",
       "\t<tr><th scope=col>FIRST_NAME</th><th scope=col>LAST_NAME</th></tr>\n",
       "\t<tr><th scope=col>&lt;chr&gt;</th><th scope=col>&lt;chr&gt;</th></tr>\n",
       "</thead>\n",
       "<tbody>\n",
       "\t<tr><td>Nikita </td><td>Erdman     </td></tr>\n",
       "\t<tr><td>Zane   </td><td>Hodkiewicz </td></tr>\n",
       "\t<tr><td>Quinn  </td><td>Marquardt  </td></tr>\n",
       "\t<tr><td>Abel   </td><td>Smitham    </td></tr>\n",
       "\t<tr><td>Edwin  </td><td>Labadie    </td></tr>\n",
       "\t<tr><td>Frankie</td><td>Oberbrunner</td></tr>\n",
       "\t<tr><td>Eilene </td><td>Walsh      </td></tr>\n",
       "\t<tr><td>Lowell </td><td>Price      </td></tr>\n",
       "\t<tr><td>Adrian </td><td>Gleason    </td></tr>\n",
       "\t<tr><td>Eugene </td><td>Abernathy  </td></tr>\n",
       "</tbody>\n",
       "</table>\n"
      ],
      "text/latex": [
       "A tibble: 10 × 2\n",
       "\\begin{tabular}{ll}\n",
       " FIRST\\_NAME & LAST\\_NAME\\\\\n",
       " <chr> & <chr>\\\\\n",
       "\\hline\n",
       "\t Nikita  & Erdman     \\\\\n",
       "\t Zane    & Hodkiewicz \\\\\n",
       "\t Quinn   & Marquardt  \\\\\n",
       "\t Abel    & Smitham    \\\\\n",
       "\t Edwin   & Labadie    \\\\\n",
       "\t Frankie & Oberbrunner\\\\\n",
       "\t Eilene  & Walsh      \\\\\n",
       "\t Lowell  & Price      \\\\\n",
       "\t Adrian  & Gleason    \\\\\n",
       "\t Eugene  & Abernathy  \\\\\n",
       "\\end{tabular}\n"
      ],
      "text/markdown": [
       "\n",
       "A tibble: 10 × 2\n",
       "\n",
       "| FIRST_NAME &lt;chr&gt; | LAST_NAME &lt;chr&gt; |\n",
       "|---|---|\n",
       "| Nikita  | Erdman      |\n",
       "| Zane    | Hodkiewicz  |\n",
       "| Quinn   | Marquardt   |\n",
       "| Abel    | Smitham     |\n",
       "| Edwin   | Labadie     |\n",
       "| Frankie | Oberbrunner |\n",
       "| Eilene  | Walsh       |\n",
       "| Lowell  | Price       |\n",
       "| Adrian  | Gleason     |\n",
       "| Eugene  | Abernathy   |\n",
       "\n"
      ],
      "text/plain": [
       "   FIRST_NAME LAST_NAME  \n",
       "1  Nikita     Erdman     \n",
       "2  Zane       Hodkiewicz \n",
       "3  Quinn      Marquardt  \n",
       "4  Abel       Smitham    \n",
       "5  Edwin      Labadie    \n",
       "6  Frankie    Oberbrunner\n",
       "7  Eilene     Walsh      \n",
       "8  Lowell     Price      \n",
       "9  Adrian     Gleason    \n",
       "10 Eugene     Abernathy  "
      ]
     },
     "metadata": {},
     "output_type": "display_data"
    }
   ],
   "source": [
    "#Question 8\n",
    "#Fix the name formatting and print the first 10 observations\n",
    "names_joined <- names_joined %>%\n",
    "  mutate(\n",
    "    FIRST_NAME = str_remove_all(FIRST, \"\\\\d+\"),\n",
    "    LAST_NAME  = str_remove_all(LAST, \"\\\\d+\")\n",
    "  )\n",
    "head(names_joined[c(\"FIRST_NAME\", \"LAST_NAME\")], 10)\n"
   ]
  },
  {
   "cell_type": "code",
   "execution_count": 180,
   "id": "86fa2ae4-40bb-4662-b4a3-8fdf62d504c4",
   "metadata": {},
   "outputs": [
    {
     "data": {
      "text/html": [
       "<style>\n",
       ".list-inline {list-style: none; margin:0; padding: 0}\n",
       ".list-inline>li {display: inline-block}\n",
       ".list-inline>li:not(:last-child)::after {content: \"\\00b7\"; padding: 0 .5ex}\n",
       "</style>\n",
       "<ol class=list-inline><li>'ID'</li><li>'BIRTHDATE'</li><li>'DEATHDATE'</li><li>'FIRST'</li><li>'LAST'</li><li>'CITY'</li><li>'STATE'</li><li>'MARITAL'</li><li>'RACE'</li><li>'ETHNICITY'</li><li>'GENDER'</li><li>'FIRST_NAME'</li><li>'LAST_NAME'</li></ol>\n"
      ],
      "text/latex": [
       "\\begin{enumerate*}\n",
       "\\item 'ID'\n",
       "\\item 'BIRTHDATE'\n",
       "\\item 'DEATHDATE'\n",
       "\\item 'FIRST'\n",
       "\\item 'LAST'\n",
       "\\item 'CITY'\n",
       "\\item 'STATE'\n",
       "\\item 'MARITAL'\n",
       "\\item 'RACE'\n",
       "\\item 'ETHNICITY'\n",
       "\\item 'GENDER'\n",
       "\\item 'FIRST\\_NAME'\n",
       "\\item 'LAST\\_NAME'\n",
       "\\end{enumerate*}\n"
      ],
      "text/markdown": [
       "1. 'ID'\n",
       "2. 'BIRTHDATE'\n",
       "3. 'DEATHDATE'\n",
       "4. 'FIRST'\n",
       "5. 'LAST'\n",
       "6. 'CITY'\n",
       "7. 'STATE'\n",
       "8. 'MARITAL'\n",
       "9. 'RACE'\n",
       "10. 'ETHNICITY'\n",
       "11. 'GENDER'\n",
       "12. 'FIRST_NAME'\n",
       "13. 'LAST_NAME'\n",
       "\n",
       "\n"
      ],
      "text/plain": [
       " [1] \"ID\"         \"BIRTHDATE\"  \"DEATHDATE\"  \"FIRST\"      \"LAST\"      \n",
       " [6] \"CITY\"       \"STATE\"      \"MARITAL\"    \"RACE\"       \"ETHNICITY\" \n",
       "[11] \"GENDER\"     \"FIRST_NAME\" \"LAST_NAME\" "
      ]
     },
     "metadata": {},
     "output_type": "display_data"
    },
    {
     "name": "stdout",
     "output_type": "stream",
     "text": [
      "[1] \"Counts for GENDER\"\n",
      "\u001b[90m# A tibble: 5 × 2\u001b[39m\n",
      "  GENDER     n\n",
      "  \u001b[3m\u001b[90m<chr>\u001b[39m\u001b[23m  \u001b[3m\u001b[90m<int>\u001b[39m\u001b[23m\n",
      "\u001b[90m1\u001b[39m M        493\n",
      "\u001b[90m2\u001b[39m F        478\n",
      "\u001b[90m3\u001b[39m Female     1\n",
      "\u001b[90m4\u001b[39m Male       1\n",
      "\u001b[90m5\u001b[39m female     1\n",
      "[1] \"Counts for RACE\"\n",
      "\u001b[90m# A tibble: 7 × 2\u001b[39m\n",
      "  RACE         n\n",
      "  \u001b[3m\u001b[90m<chr>\u001b[39m\u001b[23m    \u001b[3m\u001b[90m<int>\u001b[39m\u001b[23m\n",
      "\u001b[90m1\u001b[39m white      680\n",
      "\u001b[90m2\u001b[39m black      163\n",
      "\u001b[90m3\u001b[39m asian       90\n",
      "\u001b[90m4\u001b[39m other       16\n",
      "\u001b[90m5\u001b[39m hawaiian    13\n",
      "\u001b[90m6\u001b[39m native      11\n",
      "\u001b[90m7\u001b[39m asiann       1\n",
      "[1] \"Counts for ETHNICITY\"\n",
      "\u001b[90m# A tibble: 4 × 2\u001b[39m\n",
      "  ETHNICITY       n\n",
      "  \u001b[3m\u001b[90m<chr>\u001b[39m\u001b[23m       \u001b[3m\u001b[90m<int>\u001b[39m\u001b[23m\n",
      "\u001b[90m1\u001b[39m nonhispanic   781\n",
      "\u001b[90m2\u001b[39m hispanic      190\n",
      "\u001b[90m3\u001b[39m nonhispani      2\n",
      "\u001b[90m4\u001b[39m hispani         1\n",
      "[1] \"Counts for CITY\"\n",
      "\u001b[90m# A tibble: 29 × 2\u001b[39m\n",
      "   CITY           n\n",
      "   \u001b[3m\u001b[90m<chr>\u001b[39m\u001b[23m      \u001b[3m\u001b[90m<int>\u001b[39m\u001b[23m\n",
      "\u001b[90m 1\u001b[39m Boston       541\n",
      "\u001b[90m 2\u001b[39m Quincy        80\n",
      "\u001b[90m 3\u001b[39m Cambridge     45\n",
      "\u001b[90m 4\u001b[39m Revere        42\n",
      "\u001b[90m 5\u001b[39m Chelsea       39\n",
      "\u001b[90m 6\u001b[39m Weymouth      37\n",
      "\u001b[90m 7\u001b[39m Somerville    25\n",
      "\u001b[90m 8\u001b[39m Hingham       22\n",
      "\u001b[90m 9\u001b[39m Winthrop      22\n",
      "\u001b[90m10\u001b[39m Brookline     17\n",
      "\u001b[90m# ℹ 19 more rows\u001b[39m\n",
      "[1] \"Counts for STATE\"\n",
      "\u001b[90m# A tibble: 1 × 2\u001b[39m\n",
      "  STATE             n\n",
      "  \u001b[3m\u001b[90m<chr>\u001b[39m\u001b[23m         \u001b[3m\u001b[90m<int>\u001b[39m\u001b[23m\n",
      "\u001b[90m1\u001b[39m Massachusetts   974\n",
      "[1] \"Counts for MARITAL\"\n",
      "\u001b[90m# A tibble: 5 × 2\u001b[39m\n",
      "  MARITAL     n\n",
      "  \u001b[3m\u001b[90m<chr>\u001b[39m\u001b[23m   \u001b[3m\u001b[90m<int>\u001b[39m\u001b[23m\n",
      "\u001b[90m1\u001b[39m M         782\n",
      "\u001b[90m2\u001b[39m S         189\n",
      "\u001b[90m3\u001b[39m Fine        1\n",
      "\u001b[90m4\u001b[39m male        1\n",
      "\u001b[90m5\u001b[39m \u001b[31mNA\u001b[39m          1\n"
     ]
    }
   ],
   "source": [
    "#Question 9\n",
    "#Using a for statement to loop through the categorical variables (excluding name and ID), print the counts of each unique value in descending order, using the mdpre() function for formatting\n",
    "#Check column names\n",
    "colnames(names_joined)\n",
    "#List categorical variables\n",
    "cat_vars <- c(\"GENDER\", \"RACE\", \"ETHNICITY\", \"CITY\", \"STATE\", \"MARITAL\")\n",
    "for (var in cat_vars) {\n",
    "    mdpre(paste(\"Counts for\", var))\n",
    "  counts <- names_joined %>%\n",
    "  count(.data[[var]]) %>%\n",
    "  arrange(desc(n))\n",
    "print(counts)\n",
    "}\n",
    "\n",
    "\n",
    "\n",
    "\n"
   ]
  },
  {
   "cell_type": "code",
   "execution_count": 181,
   "id": "4c3f0580-b344-4a50-9111-b6ef97e3444b",
   "metadata": {},
   "outputs": [
    {
     "data": {
      "text/html": [
       "<table class=\"dataframe\">\n",
       "<caption>A tibble: 2 × 2</caption>\n",
       "<thead>\n",
       "\t<tr><th scope=col>GENDER</th><th scope=col>n</th></tr>\n",
       "\t<tr><th scope=col>&lt;chr&gt;</th><th scope=col>&lt;int&gt;</th></tr>\n",
       "</thead>\n",
       "<tbody>\n",
       "\t<tr><td>F</td><td>480</td></tr>\n",
       "\t<tr><td>M</td><td>494</td></tr>\n",
       "</tbody>\n",
       "</table>\n"
      ],
      "text/latex": [
       "A tibble: 2 × 2\n",
       "\\begin{tabular}{ll}\n",
       " GENDER & n\\\\\n",
       " <chr> & <int>\\\\\n",
       "\\hline\n",
       "\t F & 480\\\\\n",
       "\t M & 494\\\\\n",
       "\\end{tabular}\n"
      ],
      "text/markdown": [
       "\n",
       "A tibble: 2 × 2\n",
       "\n",
       "| GENDER &lt;chr&gt; | n &lt;int&gt; |\n",
       "|---|---|\n",
       "| F | 480 |\n",
       "| M | 494 |\n",
       "\n"
      ],
      "text/plain": [
       "  GENDER n  \n",
       "1 F      480\n",
       "2 M      494"
      ]
     },
     "metadata": {},
     "output_type": "display_data"
    },
    {
     "data": {
      "text/html": [
       "<table class=\"dataframe\">\n",
       "<caption>A tibble: 6 × 2</caption>\n",
       "<thead>\n",
       "\t<tr><th scope=col>RACE</th><th scope=col>n</th></tr>\n",
       "\t<tr><th scope=col>&lt;chr&gt;</th><th scope=col>&lt;int&gt;</th></tr>\n",
       "</thead>\n",
       "<tbody>\n",
       "\t<tr><td>white   </td><td>680</td></tr>\n",
       "\t<tr><td>black   </td><td>163</td></tr>\n",
       "\t<tr><td>asian   </td><td> 91</td></tr>\n",
       "\t<tr><td>other   </td><td> 16</td></tr>\n",
       "\t<tr><td>hawaiian</td><td> 13</td></tr>\n",
       "\t<tr><td>native  </td><td> 11</td></tr>\n",
       "</tbody>\n",
       "</table>\n"
      ],
      "text/latex": [
       "A tibble: 6 × 2\n",
       "\\begin{tabular}{ll}\n",
       " RACE & n\\\\\n",
       " <chr> & <int>\\\\\n",
       "\\hline\n",
       "\t white    & 680\\\\\n",
       "\t black    & 163\\\\\n",
       "\t asian    &  91\\\\\n",
       "\t other    &  16\\\\\n",
       "\t hawaiian &  13\\\\\n",
       "\t native   &  11\\\\\n",
       "\\end{tabular}\n"
      ],
      "text/markdown": [
       "\n",
       "A tibble: 6 × 2\n",
       "\n",
       "| RACE &lt;chr&gt; | n &lt;int&gt; |\n",
       "|---|---|\n",
       "| white    | 680 |\n",
       "| black    | 163 |\n",
       "| asian    |  91 |\n",
       "| other    |  16 |\n",
       "| hawaiian |  13 |\n",
       "| native   |  11 |\n",
       "\n"
      ],
      "text/plain": [
       "  RACE     n  \n",
       "1 white    680\n",
       "2 black    163\n",
       "3 asian     91\n",
       "4 other     16\n",
       "5 hawaiian  13\n",
       "6 native    11"
      ]
     },
     "metadata": {},
     "output_type": "display_data"
    },
    {
     "data": {
      "text/html": [
       "<table class=\"dataframe\">\n",
       "<caption>A tibble: 3 × 2</caption>\n",
       "<thead>\n",
       "\t<tr><th scope=col>ETHNICITY</th><th scope=col>n</th></tr>\n",
       "\t<tr><th scope=col>&lt;chr&gt;</th><th scope=col>&lt;int&gt;</th></tr>\n",
       "</thead>\n",
       "<tbody>\n",
       "\t<tr><td>hispanic   </td><td>190</td></tr>\n",
       "\t<tr><td>nonhispanic</td><td>781</td></tr>\n",
       "\t<tr><td>NA         </td><td>  3</td></tr>\n",
       "</tbody>\n",
       "</table>\n"
      ],
      "text/latex": [
       "A tibble: 3 × 2\n",
       "\\begin{tabular}{ll}\n",
       " ETHNICITY & n\\\\\n",
       " <chr> & <int>\\\\\n",
       "\\hline\n",
       "\t hispanic    & 190\\\\\n",
       "\t nonhispanic & 781\\\\\n",
       "\t NA          &   3\\\\\n",
       "\\end{tabular}\n"
      ],
      "text/markdown": [
       "\n",
       "A tibble: 3 × 2\n",
       "\n",
       "| ETHNICITY &lt;chr&gt; | n &lt;int&gt; |\n",
       "|---|---|\n",
       "| hispanic    | 190 |\n",
       "| nonhispanic | 781 |\n",
       "| NA          |   3 |\n",
       "\n"
      ],
      "text/plain": [
       "  ETHNICITY   n  \n",
       "1 hispanic    190\n",
       "2 nonhispanic 781\n",
       "3 NA            3"
      ]
     },
     "metadata": {},
     "output_type": "display_data"
    },
    {
     "data": {
      "text/html": [
       "<table class=\"dataframe\">\n",
       "<caption>A tibble: 3 × 2</caption>\n",
       "<thead>\n",
       "\t<tr><th scope=col>MARITAL</th><th scope=col>n</th></tr>\n",
       "\t<tr><th scope=col>&lt;chr&gt;</th><th scope=col>&lt;int&gt;</th></tr>\n",
       "</thead>\n",
       "<tbody>\n",
       "\t<tr><td>Married</td><td>782</td></tr>\n",
       "\t<tr><td>Single </td><td>189</td></tr>\n",
       "\t<tr><td>NA     </td><td>  3</td></tr>\n",
       "</tbody>\n",
       "</table>\n"
      ],
      "text/latex": [
       "A tibble: 3 × 2\n",
       "\\begin{tabular}{ll}\n",
       " MARITAL & n\\\\\n",
       " <chr> & <int>\\\\\n",
       "\\hline\n",
       "\t Married & 782\\\\\n",
       "\t Single  & 189\\\\\n",
       "\t NA      &   3\\\\\n",
       "\\end{tabular}\n"
      ],
      "text/markdown": [
       "\n",
       "A tibble: 3 × 2\n",
       "\n",
       "| MARITAL &lt;chr&gt; | n &lt;int&gt; |\n",
       "|---|---|\n",
       "| Married | 782 |\n",
       "| Single  | 189 |\n",
       "| NA      |   3 |\n",
       "\n"
      ],
      "text/plain": [
       "  MARITAL n  \n",
       "1 Married 782\n",
       "2 Single  189\n",
       "3 NA        3"
      ]
     },
     "metadata": {},
     "output_type": "display_data"
    }
   ],
   "source": [
    "#Question 10\n",
    "#Get rid of weird values and combine the ones that are formatted wrong. Check the dates.\n",
    "\n",
    "#Gender\n",
    "names_joined <- names_joined %>%\n",
    "mutate(\n",
    "    GENDER = case_when(\n",
    "        str_to_lower(GENDER) %in% c(\"m\", \"male\") ~ \"M\",\n",
    "        str_to_lower(GENDER) %in% c(\"f\", \"female\") ~ \"F\", \n",
    "        TRUE ~ NA_character_\n",
    "        )\n",
    "    )\n",
    "                     \n",
    "    #Check\n",
    "    names_joined %>% count(GENDER)\n",
    "\n",
    "#Race\n",
    "names_joined <- names_joined %>%\n",
    "  mutate(\n",
    "    RACE = case_when(\n",
    "      str_detect(str_to_lower(RACE), \"asian\") ~ \"asian\",\n",
    "      str_detect(str_to_lower(RACE), \"white\") ~ \"white\",\n",
    "      str_detect(str_to_lower(RACE), \"black\") ~ \"black\",\n",
    "      str_detect(str_to_lower(RACE), \"other\") ~ \"other\",\n",
    "      str_detect(str_to_lower(RACE), \"hawaiian\") ~ \"hawaiian\",\n",
    "      str_detect(str_to_lower(RACE), \"native\") ~ \"native\",\n",
    "      TRUE ~ NA_character_\n",
    "    )\n",
    "  )\n",
    "\n",
    "names_joined %>% count(RACE, sort = TRUE)\n",
    "\n",
    "#Ethnicity\n",
    "names_joined <- names_joined %>%\n",
    "  mutate(\n",
    "    ETHNICITY = case_when(\n",
    "      str_detect(str_to_lower(ETHNICITY), \"nonhispanic\") ~ \"nonhispanic\",\n",
    "      str_detect(str_to_lower(ETHNICITY), \"hispanic\")    ~ \"hispanic\",\n",
    "      TRUE ~ NA_character_\n",
    "    )\n",
    "  )\n",
    "names_joined %>% count(ETHNICITY)\n",
    "\n",
    "#Marital\n",
    "names_joined <- names_joined %>%\n",
    "  mutate(\n",
    "    MARITAL = str_squish(str_to_lower(MARITAL)), #trim\n",
    "    MARITAL = case_when(\n",
    "      MARITAL %in% c(\"m\", \"married\") ~ \"Married\",\n",
    "      MARITAL %in% c(\"s\", \"single\")  ~ \"Single\",\n",
    "      MARITAL %in% c(\"na\", \"none\", \"\") ~ NA_character_,\n",
    "      MARITAL %in% c(\"fine\", \"male\") ~ NA_character_,  # treat as missing\n",
    "      TRUE ~ NA_character_\n",
    "    )\n",
    "  )\n",
    "    names_joined %>% count(MARITAL)\n",
    "\n",
    "#"
   ]
  },
  {
   "cell_type": "code",
   "execution_count": 182,
   "id": "17c9c3a0-0094-413b-9eab-d74bac9f7263",
   "metadata": {},
   "outputs": [
    {
     "data": {
      "text/html": [
       "<style>\n",
       ".dl-inline {width: auto; margin:0; padding: 0}\n",
       ".dl-inline>dt, .dl-inline>dd {float: none; width: auto; display: inline-block}\n",
       ".dl-inline>dt::after {content: \":\\0020\"; padding-right: .5ex}\n",
       ".dl-inline>dt:not(:first-of-type) {padding-left: .5ex}\n",
       "</style><dl class=dl-inline><dt>Min.</dt><dd><time datetime=\"1969-01-11\">1969-01-11</time></dd><dt>1st Qu.</dt><dd><time datetime=\"1990-12-12\">1990-12-12</time></dd><dt>Median</dt><dd><time datetime=\"2032-09-30\">2032-09-30</time></dd><dt>Mean</dt><dd><time datetime=\"2025-12-20\">2025-12-20</time></dd><dt>3rd Qu.</dt><dd><time datetime=\"2048-05-16\">2048-05-16</time></dd><dt>Max.</dt><dd><time datetime=\"2068-10-08\">2068-10-08</time></dd></dl>\n"
      ],
      "text/latex": [
       "\\begin{description*}\n",
       "\\item[Min.] 1969-01-11\n",
       "\\item[1st Qu.] 1990-12-12\n",
       "\\item[Median] 2032-09-30\n",
       "\\item[Mean] 2025-12-20\n",
       "\\item[3rd Qu.] 2048-05-16\n",
       "\\item[Max.] 2068-10-08\n",
       "\\end{description*}\n"
      ],
      "text/markdown": [
       "Min.\n",
       ":   1969-01-111st Qu.\n",
       ":   1990-12-12Median\n",
       ":   2032-09-30Mean\n",
       ":   2025-12-203rd Qu.\n",
       ":   2048-05-16Max.\n",
       ":   2068-10-08\n",
       "\n"
      ],
      "text/plain": [
       "        Min.      1st Qu.       Median         Mean      3rd Qu.         Max. \n",
       "\"1969-01-11\" \"1990-12-12\" \"2032-09-30\" \"2025-12-20\" \"2048-05-16\" \"2068-10-08\" "
      ]
     },
     "metadata": {},
     "output_type": "display_data"
    },
    {
     "data": {
      "text/plain": [
       "    Min.  1st Qu.   Median     Mean  3rd Qu.     Max. \n",
       "-43.0000 -22.0000  -7.0000  -0.1294  34.0000  56.0000 "
      ]
     },
     "metadata": {},
     "output_type": "display_data"
    },
    {
     "data": {
      "image/png": "[encoded data removed]",
      "text/plain": [
       "plot without title"
      ]
     },
     "metadata": {
      "image/png": {
       "height": 420,
       "width": 420
      }
     },
     "output_type": "display_data"
    }
   ],
   "source": [
    "#Question 10\n",
    "#Make a histogram of the ages of patients by gender\n",
    "#NOTE: could not figure out dates\n",
    "library(stringr)\n",
    "library(ggplot2)\n",
    "\n",
    "names_joined <- names_joined %>%\n",
    "  mutate(\n",
    "    # normalize to plain text and remove any single quotes\n",
    "    BIRTHDATE_chr = as.character(BIRTHDATE),\n",
    "    BIRTHDATE_chr = str_squish(BIRTHDATE_chr),\n",
    "    BIRTHDATE_chr = gsub(\"'\", \"\", BIRTHDATE_chr),\n",
    "\n",
    "    # parse m/d/yy\n",
    "    BIRTHDATE = as.Date(BIRTHDATE_chr, format = \"%m/%d/%y\"),\n",
    "\n",
    "    AGE = as.integer(interval(BIRTHDATE, today()) / years(1))\n",
    "  ) %>%\n",
    "  select(-BIRTHDATE_chr)\n",
    "\n",
    "summary(names_joined$BIRTHDATE)\n",
    "summary(names_joined$AGE)\n",
    "\n",
    "ggplot(names_joined, aes(x = AGE)) +\n",
    "  geom_histogram(binwidth = 5, fill = \"skyblue\", color = \"black\") +\n",
    "  labs(title = \"Patient Ages\", x = \"Age (years)\", y = \"Count\") +\n",
    "  theme_minimal()\n",
    "\n",
    "\n",
    "\n",
    "\n",
    "\n"
   ]
  },
  {
   "cell_type": "code",
   "execution_count": 183,
   "id": "70830bfe-c5c0-4540-b54f-ddaacdbb8a28",
   "metadata": {},
   "outputs": [],
   "source": [
    "#Question 12\n",
    "#Make a scatterplot of birthdate by marital status"
   ]
  },
  {
   "cell_type": "code",
   "execution_count": 187,
   "id": "8934ed6f-54a1-4413-a227-3b5b89bc8f78",
   "metadata": {},
   "outputs": [
    {
     "name": "stderr",
     "output_type": "stream",
     "text": [
      "Warning message in geom_point(width = 0.2, height = 0, alpha = 0.6, color = \"skyblue\"):\n",
      "“\u001b[1m\u001b[22mIgnoring unknown parameters: `width` and `height`”\n"
     ]
    },
    {
     "data": {
      "image/png": "[encoded data removed]",
      "text/plain": [
       "plot without title"
      ]
     },
     "metadata": {
      "image/png": {
       "height": 420,
       "width": 420
      }
     },
     "output_type": "display_data"
    }
   ],
   "source": [
    "ggplot(names_joined, aes(x = MARITAL, y = BIRTHDATE)) +\n",
    "  geom_point(width = 0.2, height = 0, alpha = 0.6, color = \"skyblue\") +\n",
    "  labs(\n",
    "    title = \"Scatterplot of Birthdate by Marital Status\",\n",
    "    x = \"Marital Status\",\n",
    "    y = \"Birthdate\"\n",
    "  ) +\n",
    "  theme_minimal()"
   ]
  },
  {
   "cell_type": "code",
   "execution_count": null,
   "id": "ba825ea3-471c-45a8-ac26-c688ed2f5b5d",
   "metadata": {},
   "outputs": [],
   "source": []
  }
 ],
 "metadata": {
  "kernelspec": {
   "display_name": "R",
   "language": "R",
   "name": "ir"
  },
  "language_info": {
   "codemirror_mode": "r",
   "file_extension": ".r",
   "mimetype": "text/x-r-source",
   "name": "R",
   "pygments_lexer": "r",
   "version": "4.3.1"
  }
 },
 "nbformat": 4,
 "nbformat_minor": 5
}
