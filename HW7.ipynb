{
 "cells": [
  {
   "cell_type": "code",
   "execution_count": null,
   "id": "22c1a06b-e3c6-4c52-9b73-c40b74d80016",
   "metadata": {},
   "outputs": [],
   "source": [
    "#Question 1\n",
    "# What is the holy trinity of Git?\n",
    "# ***The branch *** (aka head/history) is the history of patch files and can track if \n",
    "#the patches originate from the beginning of the repo or where they diverge and branch off. \n",
    "# *** The working copy *** (aka working tree or tree) is the code being currently edited\n",
    "# *** The staging area *** is an abstract location where one would construct commits\n"
   ]
  },
  {
   "cell_type": "code",
   "execution_count": null,
   "id": "5d32a8ce-8133-41b9-9350-46583aa0ce91",
   "metadata": {},
   "outputs": [],
   "source": [
    "#Question 2\n",
    "# Explain how patches relate to the idea of committing a change to the history of your code\n",
    "# Patches related to the idea of committing a change as it applies a patch file to a specified file \n",
    "# Commit compares the previous state of the repo to the next state of the repo.\n"
   ]
  },
  {
   "cell_type": "code",
   "execution_count": null,
   "id": "4854712a-024e-4f8f-be12-8a71a1471b97",
   "metadata": {},
   "outputs": [],
   "source": [
    "#Question 3\n",
    "# What is the difference between a branch and a fork?\n",
    "# While a branch is temporary and part of the same repo, a fork is a separate copy that is permanently separate from the original."
   ]
  },
  {
   "cell_type": "code",
   "execution_count": null,
   "id": "407e0761-d79c-4bcd-8c4b-619b2cddfb9d",
   "metadata": {},
   "outputs": [],
   "source": [
    "#Question 4\n",
    "# How are diff and patch related? What's the difference?\n",
    "#Diff and patch are both related as they show a history of changes to your file. However, patch can apply the differences described in a diff file. "
   ]
  },
  {
   "cell_type": "code",
   "execution_count": null,
   "id": "b502a33d-4fe6-4b3a-854c-8a3d341c4967",
   "metadata": {},
   "outputs": [],
   "source": [
    "#Question 5\n",
    "#a - What part of the Git trinity does each line represent?\n",
    "# Each line represents the branches from the trinity.\n",
    "\n",
    "#b - What would the result be if Alice performed a rebase? Edit the diagram. \n",
    "#If Alice performed a rebase, her commits would be moved after the origin/main. It would \n",
    "#be *-*-*-*-a-b-c-d'-e' origin/main *-*-*-*-a-b-c\n",
    "\n",
    "#What would she type in the terminal to rebase, then push?\n",
    "#To rebase she would type, git fetch origin, git rebase origin/main git push\n",
    "\n",
    "#c - What would the result be if Alice performed a merge? Edit diagram. Type?\n",
    "#If she merges she will change the history.  alice *-*-*-*-a-b-c-d-e origin/main\n",
    "# *-*-*-*-a-b-c-d-e\n",
    "\n",
    "#d - Which would be the better option (rebase vs. merge)? Why?\n",
    "\n"
   ]
  },
  {
   "cell_type": "code",
   "execution_count": null,
   "id": "10d2fb36-66ff-4617-ace4-f10328d91b38",
   "metadata": {},
   "outputs": [],
   "source": [
    "#Question 6\n",
    "#Match the command/vocab word to the description\n",
    "#git log a, git stash b, git blame c, git pull d, git checkout e, git status f, git show g\n",
    "#git merge h, git add i, git push j, git add -i k, .gitignore l, git commit m, git clone n\n",
    "#git diff o, git rebase p, git init q"
   ]
  },
  {
   "cell_type": "code",
   "execution_count": null,
   "id": "4ff770cc-ad57-457c-b335-920296f8a2fc",
   "metadata": {},
   "outputs": [],
   "source": [
    "#Question 7 - Interactive staging\n",
    "\n",
    "#a - What situation would interactive staging be useful in?\n",
    "#Interactive staging would be useful when you only want to commit specific parts of the changes\n",
    "\n",
    "#b - What command(s) help you prepare for what you'll see while interactive staging?\n",
    "#git status, git diff\n",
    "\n",
    "#c - On the text-based interactive menu, what option do you use?\n",
    "#p\n",
    "\n",
    "#d - After pressing that option, how do you select the file you want to stage?\n",
    "#Enter the number of files you want to inspect\n",
    "\n",
    "#e What option do you type if you do not want to stage a hunk?\n",
    "#n\n",
    "\n",
    "#f Once you get to a hunk you want to stage, what do you do?\n",
    "#y\n",
    "\n",
    "#g What if you have more hunks we want to stage?\n",
    "#y"
   ]
  }
 ],
 "metadata": {
  "kernelspec": {
   "display_name": "R",
   "language": "R",
   "name": "ir"
  },
  "language_info": {
   "codemirror_mode": "r",
   "file_extension": ".r",
   "mimetype": "text/x-r-source",
   "name": "R",
   "pygments_lexer": "r",
   "version": "4.3.1"
  }
 },
 "nbformat": 4,
 "nbformat_minor": 5
}
